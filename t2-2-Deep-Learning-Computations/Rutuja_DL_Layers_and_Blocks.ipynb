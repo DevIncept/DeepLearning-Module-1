{
  "nbformat": 4,
  "nbformat_minor": 0,
  "metadata": {
    "kernelspec": {
      "display_name": "Python 3",
      "language": "python",
      "name": "python3"
    },
    "language_info": {
      "codemirror_mode": {
        "name": "ipython",
        "version": 3
      },
      "file_extension": ".py",
      "mimetype": "text/x-python",
      "name": "python",
      "nbconvert_exporter": "python",
      "pygments_lexer": "ipython3",
      "version": "3.7.6"
    },
    "colab": {
      "name": "Rutuja_ML_Layers and Blocks.ipynb",
      "provenance": [],
      "collapsed_sections": []
    }
  },
  "cells": [
    {
      "cell_type": "markdown",
      "metadata": {
        "id": "P-9bWcOS6ESx"
      },
      "source": [
        "## Dense Layer"
      ]
    },
    {
      "cell_type": "code",
      "metadata": {
        "id": "8p_V7SDd6ES3"
      },
      "source": [
        "from tensorflow.keras.models import Sequential"
      ],
      "execution_count": 1,
      "outputs": []
    },
    {
      "cell_type": "code",
      "metadata": {
        "id": "p5fvF_oX6ETL"
      },
      "source": [
        "from tensorflow.keras.layers import Dense, Activation"
      ],
      "execution_count": 2,
      "outputs": []
    },
    {
      "cell_type": "code",
      "metadata": {
        "id": "qRpgEY1x6ETd"
      },
      "source": [
        "# instance of Sequetial \n",
        "model = Sequential()"
      ],
      "execution_count": 3,
      "outputs": []
    },
    {
      "cell_type": "code",
      "metadata": {
        "id": "8QkTVw3-6ETt"
      },
      "source": [
        "# model with 1 dense layer having 8 neurons/units\n",
        "layer = Dense(units = 8, input_shape = (4,) , activation = 'relu')\n",
        "model.add(layer)"
      ],
      "execution_count": 4,
      "outputs": []
    },
    {
      "cell_type": "code",
      "metadata": {
        "id": "gLO-ZOXS6EUA",
        "outputId": "aa10b1ac-2840-4f6e-b741-c95d4609b158",
        "colab": {
          "base_uri": "https://localhost:8080/",
          "height": 168
        }
      },
      "source": [
        "# display weight matrix\n",
        "layer.get_weights() "
      ],
      "execution_count": 5,
      "outputs": [
        {
          "output_type": "execute_result",
          "data": {
            "text/plain": [
              "[array([[ 0.4232784 , -0.3686991 , -0.04080641, -0.12326401,  0.06683493,\n",
              "          0.5541516 , -0.4060478 ,  0.43981892],\n",
              "        [ 0.23578298,  0.5128315 , -0.4366511 , -0.06179553,  0.09152663,\n",
              "          0.110668  , -0.1560691 , -0.07480967],\n",
              "        [-0.62733155,  0.34627205,  0.36199445,  0.631175  , -0.25977463,\n",
              "         -0.21799394,  0.18956554,  0.10730809],\n",
              "        [-0.26339066, -0.22317716, -0.08162546, -0.49736738, -0.67495465,\n",
              "         -0.6323882 , -0.02098018, -0.05178785]], dtype=float32),\n",
              " array([0., 0., 0., 0., 0., 0., 0., 0.], dtype=float32)]"
            ]
          },
          "metadata": {
            "tags": []
          },
          "execution_count": 5
        }
      ]
    },
    {
      "cell_type": "code",
      "metadata": {
        "id": "47E1K90-6EUU",
        "outputId": "694c089a-e125-4aa2-f5f4-2c9ad881c881",
        "colab": {
          "base_uri": "https://localhost:8080/",
          "height": 34
        }
      },
      "source": [
        "print('Input Shape of layer : '+ str(layer.input_shape))"
      ],
      "execution_count": 6,
      "outputs": [
        {
          "output_type": "stream",
          "text": [
            "Input Shape of layer : (None, 4)\n"
          ],
          "name": "stdout"
        }
      ]
    },
    {
      "cell_type": "code",
      "metadata": {
        "id": "9VAeVIaw6EUh",
        "outputId": "436eb933-2ff9-4cf8-fb54-c7d3827824c3",
        "colab": {
          "base_uri": "https://localhost:8080/",
          "height": 34
        }
      },
      "source": [
        "print('Output Shape of layer : '+ str(layer.output_shape))"
      ],
      "execution_count": 7,
      "outputs": [
        {
          "output_type": "stream",
          "text": [
            "Output Shape of layer : (None, 8)\n"
          ],
          "name": "stdout"
        }
      ]
    },
    {
      "cell_type": "markdown",
      "metadata": {
        "id": "HtP6ofn66EUy"
      },
      "source": [
        "### Calculation of Output shape of layer\n",
        "Input shape = (*,4)\n",
        "\n",
        "Weight/kernel matrix shape = (4,8)\n",
        "\n",
        "dot(input,kernel) =  ( * ,4) * (4,8) = ( * ,8)"
      ]
    },
    {
      "cell_type": "code",
      "metadata": {
        "scrolled": false,
        "id": "C_fnlXCQ6EU4",
        "outputId": "13055ba2-2331-4346-afaa-c6aab79b867d",
        "colab": {
          "base_uri": "https://localhost:8080/",
          "height": 185
        }
      },
      "source": [
        "# summarize the model\n",
        "model.summary()"
      ],
      "execution_count": 8,
      "outputs": [
        {
          "output_type": "stream",
          "text": [
            "Model: \"sequential\"\n",
            "_________________________________________________________________\n",
            "Layer (type)                 Output Shape              Param #   \n",
            "=================================================================\n",
            "dense (Dense)                (None, 8)                 40        \n",
            "=================================================================\n",
            "Total params: 40\n",
            "Trainable params: 40\n",
            "Non-trainable params: 0\n",
            "_________________________________________________________________\n"
          ],
          "name": "stdout"
        }
      ]
    },
    {
      "cell_type": "markdown",
      "metadata": {
        "id": "idx_g2rF6EVJ"
      },
      "source": [
        "## Convolution layer"
      ]
    },
    {
      "cell_type": "code",
      "metadata": {
        "id": "AKc2rcAt6EVL"
      },
      "source": [
        "import tensorflow as tf"
      ],
      "execution_count": 9,
      "outputs": []
    },
    {
      "cell_type": "code",
      "metadata": {
        "id": "xlzwCX876EVZ",
        "outputId": "4673c6af-e712-46a3-cbec-8aec5d22f495",
        "colab": {
          "base_uri": "https://localhost:8080/",
          "height": 34
        }
      },
      "source": [
        "# conv2D layer \n",
        "\n",
        "# 5x5 RGB pixel image with batch size=4\n",
        "input_shape = (4, 5, 5, 3)\n",
        "x = tf.random.normal(input_shape)\n",
        "y1 = tf.keras.layers.Conv2D(2, kernel_size= 3, activation='relu')(x)\n",
        "print('Shape after convolution '+ str(y1.shape))\n",
        "\n",
        "# (5 x 5) * (3 x 3) = (5-3+1)x(5-3+1) = (3 x 3)"
      ],
      "execution_count": 10,
      "outputs": [
        {
          "output_type": "stream",
          "text": [
            "Shape after convolution (4, 3, 3, 2)\n"
          ],
          "name": "stdout"
        }
      ]
    },
    {
      "cell_type": "markdown",
      "metadata": {
        "id": "SbDbktN26EVm"
      },
      "source": [
        "<img src=\"https://miro.medium.com/max/494/1*1VJDP6qDY9-ExTuQVEOlVg.gif\"></img>"
      ]
    },
    {
      "cell_type": "markdown",
      "metadata": {
        "id": "uZtRQOLT6EVo"
      },
      "source": [
        "## CNN model"
      ]
    },
    {
      "cell_type": "code",
      "metadata": {
        "id": "ZqUrBGkE6EVp"
      },
      "source": [
        "from tensorflow.keras.models import Sequential\n",
        "from tensorflow.keras.layers import Dense, Conv2D, Flatten, Dropout, Flatten, BatchNormalization, MaxPooling2D"
      ],
      "execution_count": 11,
      "outputs": []
    },
    {
      "cell_type": "code",
      "metadata": {
        "id": "BNFsrLB56EVw"
      },
      "source": [
        "model1 =  Sequential()\n",
        "model1.add(Conv2D(64, kernel_size=3, activation='relu',input_shape=(28,28,1)))\n",
        "model1.add(BatchNormalization()) \n",
        "model1.add(Conv2D(32, kernel_size=3, activation='relu'))\n",
        "model1.add(BatchNormalization()) \n",
        "model1.add(MaxPooling2D(2))\n",
        "\n",
        "model1.add(Dropout(rate=0.25))\n",
        "\n",
        "# converts the pooled feature map to a single column that is passed to the fully connected layer\n",
        "model1.add(Flatten())\n",
        "\n",
        "#hidden dense(fully connected) layer\n",
        "model1.add(Dense(256,activation='relu'))\n",
        "\n",
        "# output layer\n",
        "model1.add(Dense(62,activation='softmax'))\n",
        "# here 62 is no of output classes (it may vary according to no of output classes)\n",
        "# softmax activation varies output between 0-1"
      ],
      "execution_count": 12,
      "outputs": []
    },
    {
      "cell_type": "code",
      "metadata": {
        "id": "RXISB8Dc6EV7",
        "outputId": "76bd4454-399a-4955-ce16-9e093fd41b54",
        "colab": {
          "base_uri": "https://localhost:8080/",
          "height": 454
        }
      },
      "source": [
        "model1.summary()"
      ],
      "execution_count": 13,
      "outputs": [
        {
          "output_type": "stream",
          "text": [
            "Model: \"sequential_1\"\n",
            "_________________________________________________________________\n",
            "Layer (type)                 Output Shape              Param #   \n",
            "=================================================================\n",
            "conv2d_1 (Conv2D)            (None, 26, 26, 64)        640       \n",
            "_________________________________________________________________\n",
            "batch_normalization (BatchNo (None, 26, 26, 64)        256       \n",
            "_________________________________________________________________\n",
            "conv2d_2 (Conv2D)            (None, 24, 24, 32)        18464     \n",
            "_________________________________________________________________\n",
            "batch_normalization_1 (Batch (None, 24, 24, 32)        128       \n",
            "_________________________________________________________________\n",
            "max_pooling2d (MaxPooling2D) (None, 12, 12, 32)        0         \n",
            "_________________________________________________________________\n",
            "dropout (Dropout)            (None, 12, 12, 32)        0         \n",
            "_________________________________________________________________\n",
            "flatten (Flatten)            (None, 4608)              0         \n",
            "_________________________________________________________________\n",
            "dense_1 (Dense)              (None, 256)               1179904   \n",
            "_________________________________________________________________\n",
            "dense_2 (Dense)              (None, 62)                15934     \n",
            "=================================================================\n",
            "Total params: 1,215,326\n",
            "Trainable params: 1,215,134\n",
            "Non-trainable params: 192\n",
            "_________________________________________________________________\n"
          ],
          "name": "stdout"
        }
      ]
    },
    {
      "cell_type": "markdown",
      "metadata": {
        "id": "TJRD4aVm6EWD"
      },
      "source": [
        "## Embedded Layer"
      ]
    },
    {
      "cell_type": "code",
      "metadata": {
        "id": "nFVIbq3K6EWE"
      },
      "source": [
        "import tensorflow as tf\n",
        "import numpy as np"
      ],
      "execution_count": 14,
      "outputs": []
    },
    {
      "cell_type": "code",
      "metadata": {
        "id": "tYSNHnMr6EWQ"
      },
      "source": [
        "from tensorflow.keras.models import Sequential\n",
        "from tensorflow.keras.layers import Embedding"
      ],
      "execution_count": 15,
      "outputs": []
    },
    {
      "cell_type": "code",
      "metadata": {
        "scrolled": true,
        "id": "dXAukOxC6EWc"
      },
      "source": [
        "model = tf.keras.Sequential()\n",
        "\n",
        "# Input integer matrix shape = (batch, input_length)\n",
        "# Here, vocab_size=100. So, input matrix should not have word index ie.integer encoded value greater than 99\n",
        "model.add(tf.keras.layers.Embedding(100, 8, input_length=4))\n",
        "\n",
        "#compile the model\n",
        "model.compile(optimizer='rmsprop', loss='mse')\n"
      ],
      "execution_count": 16,
      "outputs": []
    },
    {
      "cell_type": "code",
      "metadata": {
        "id": "ASkE0cyZ6EWj",
        "outputId": "4f23e426-51cb-408a-abb4-4051153adc86",
        "colab": {
          "base_uri": "https://localhost:8080/",
          "height": 185
        }
      },
      "source": [
        "model.summary()"
      ],
      "execution_count": 17,
      "outputs": [
        {
          "output_type": "stream",
          "text": [
            "Model: \"sequential_2\"\n",
            "_________________________________________________________________\n",
            "Layer (type)                 Output Shape              Param #   \n",
            "=================================================================\n",
            "embedding (Embedding)        (None, 4, 8)              800       \n",
            "=================================================================\n",
            "Total params: 800\n",
            "Trainable params: 800\n",
            "Non-trainable params: 0\n",
            "_________________________________________________________________\n"
          ],
          "name": "stdout"
        }
      ]
    },
    {
      "cell_type": "code",
      "metadata": {
        "id": "anyCnqhF6EWu",
        "outputId": "a872a495-7cb0-48fd-f6e6-7d451db54eb5",
        "colab": {
          "base_uri": "https://localhost:8080/",
          "height": 50
        }
      },
      "source": [
        "# Here, batch=10, input_length=4\n",
        "input_array = np.random.randint(100, size=(10, 4))\n",
        "output_array = model.predict(input_array)\n",
        "print('Input shape of Layer:'+str(input_array.shape))\n",
        "print('Output shape of Layer:'+str(output_array.shape))"
      ],
      "execution_count": 18,
      "outputs": [
        {
          "output_type": "stream",
          "text": [
            "Input shape of Layer:(10, 4)\n",
            "Output shape of Layer:(10, 4, 8)\n"
          ],
          "name": "stdout"
        }
      ]
    },
    {
      "cell_type": "markdown",
      "metadata": {
        "id": "k9kaYBwa6EW1"
      },
      "source": [
        "Input shape: (batch_size, input_length).\n",
        "\n",
        "Output shape: (batch_size, input_length, output_dim).\n"
      ]
    },
    {
      "cell_type": "markdown",
      "metadata": {
        "id": "MtvZ6_xu6EW2"
      },
      "source": [
        "## LSTM Layer"
      ]
    },
    {
      "cell_type": "code",
      "metadata": {
        "id": "OLxGe7rc6EW6",
        "outputId": "bfb1a885-21e2-4e09-9b3b-daa4ec9e29ea",
        "colab": {
          "base_uri": "https://localhost:8080/",
          "height": 34
        }
      },
      "source": [
        "inputs = tf.random.normal([32, 10, 8])\n",
        "lstm = tf.keras.layers.LSTM(units=4)\n",
        "output = lstm(inputs)\n",
        "print('Output Shape: '+ str(output.shape))"
      ],
      "execution_count": 19,
      "outputs": [
        {
          "output_type": "stream",
          "text": [
            "Output Shape: (32, 4)\n"
          ],
          "name": "stdout"
        }
      ]
    },
    {
      "cell_type": "code",
      "metadata": {
        "id": "9JEigyo66EXA",
        "outputId": "2ef316c1-b506-4553-b558-530d0a934c6d",
        "colab": {
          "base_uri": "https://localhost:8080/",
          "height": 67
        }
      },
      "source": [
        "lstm = tf.keras.layers.LSTM(units=4, return_sequences=True, return_state=True)\n",
        "# return_sequences=True returns last output in output sequence or full sequence\n",
        "# return_state=True returns last state in addition to output\n",
        "\n",
        "whole_seq_output, final_memory_state, final_carry_state = lstm(inputs)\n",
        "print(whole_seq_output.shape)\n",
        "print(final_memory_state.shape)\n",
        "print(final_carry_state.shape)"
      ],
      "execution_count": 20,
      "outputs": [
        {
          "output_type": "stream",
          "text": [
            "(32, 10, 4)\n",
            "(32, 4)\n",
            "(32, 4)\n"
          ],
          "name": "stdout"
        }
      ]
    },
    {
      "cell_type": "markdown",
      "metadata": {
        "id": "L53vfgXg6EXQ"
      },
      "source": [
        "## Custom Block"
      ]
    },
    {
      "cell_type": "code",
      "metadata": {
        "id": "1ko6Jit_6EXR",
        "outputId": "c0bd14cd-f2c2-4f72-992e-e71d509b505b",
        "colab": {
          "base_uri": "https://localhost:8080/",
          "height": 185
        }
      },
      "source": [
        "# define and initalize X of shape (2,20)\n",
        "X = tf.random.uniform(shape=(2, 20))\n",
        "X"
      ],
      "execution_count": 21,
      "outputs": [
        {
          "output_type": "execute_result",
          "data": {
            "text/plain": [
              "<tf.Tensor: shape=(2, 20), dtype=float32, numpy=\n",
              "array([[0.8620826 , 0.75025415, 0.02533031, 0.14355016, 0.3470168 ,\n",
              "        0.02370191, 0.7971227 , 0.8908745 , 0.8679559 , 0.07242513,\n",
              "        0.503598  , 0.32010305, 0.34981775, 0.9261557 , 0.68355024,\n",
              "        0.14114451, 0.9786632 , 0.8890028 , 0.23500371, 0.9707663 ],\n",
              "       [0.41347814, 0.5919939 , 0.30091405, 0.05587864, 0.5842637 ,\n",
              "        0.81562054, 0.48869157, 0.39086843, 0.1710186 , 0.63337743,\n",
              "        0.1183573 , 0.78289664, 0.03036654, 0.7057227 , 0.89814925,\n",
              "        0.49736297, 0.1929071 , 0.05557454, 0.832667  , 0.0826602 ]],\n",
              "      dtype=float32)>"
            ]
          },
          "metadata": {
            "tags": []
          },
          "execution_count": 21
        }
      ]
    },
    {
      "cell_type": "code",
      "metadata": {
        "id": "6D2sQUpF6EXc"
      },
      "source": [
        "class MLP(tf.keras.Model):\n",
        "    def __init__(self):\n",
        "        # Call the constructor of the 'MLP' parent class 'Block' to perform the required initialization. \n",
        "        super().__init__()\n",
        "       \n",
        "        # instantiating 2 fully connected layers\n",
        "        self.hidden = tf.keras.layers.Dense(units=256, activation='relu')   # Hidden layer\n",
        "        self.out = tf.keras.layers.Dense(units=10)  # Output layer\n",
        "\n",
        "    # Define the forward propagation of the model ie. how to return the required model output based on the input `X`\n",
        "    def call(self, X):\n",
        "        return self.out(self.hidden((X)))"
      ],
      "execution_count": 22,
      "outputs": []
    },
    {
      "cell_type": "code",
      "metadata": {
        "id": "vDnIbCQk6EXj",
        "outputId": "fa01a5b7-bd59-4ba3-db70-e8dacd5216cd",
        "colab": {
          "base_uri": "https://localhost:8080/",
          "height": 118
        }
      },
      "source": [
        "net = MLP()\n",
        "net.call(X)"
      ],
      "execution_count": 23,
      "outputs": [
        {
          "output_type": "execute_result",
          "data": {
            "text/plain": [
              "<tf.Tensor: shape=(2, 10), dtype=float32, numpy=\n",
              "array([[-0.24756399, -0.05796289, -0.22194023, -0.41325736,  0.32460323,\n",
              "         0.27138254, -0.12445317,  0.06097393,  0.2741508 , -0.06754197],\n",
              "       [-0.4326312 , -0.18918397,  0.05436459, -0.07648823, -0.00182199,\n",
              "         0.00101668,  0.02840006, -0.12969065,  0.18816873,  0.10812622]],\n",
              "      dtype=float32)>"
            ]
          },
          "metadata": {
            "tags": []
          },
          "execution_count": 23
        }
      ]
    },
    {
      "cell_type": "markdown",
      "metadata": {
        "id": "ui7UywLu6EXy"
      },
      "source": [
        "## Sequential Block"
      ]
    },
    {
      "cell_type": "code",
      "metadata": {
        "id": "Jhctq52v6EX0",
        "outputId": "5a43b4f1-e10c-49c2-b93f-5e44a5364440",
        "colab": {
          "base_uri": "https://localhost:8080/",
          "height": 185
        }
      },
      "source": [
        "# define and initalize X of shape (2,20)\n",
        "X = tf.random.uniform(shape=(2, 20))\n",
        "X"
      ],
      "execution_count": 24,
      "outputs": [
        {
          "output_type": "execute_result",
          "data": {
            "text/plain": [
              "<tf.Tensor: shape=(2, 20), dtype=float32, numpy=\n",
              "array([[0.81053364, 0.550128  , 0.9774598 , 0.7618586 , 0.97323024,\n",
              "        0.6329963 , 0.90631986, 0.8550713 , 0.6298326 , 0.208588  ,\n",
              "        0.25095522, 0.61522675, 0.41562796, 0.22926211, 0.8895987 ,\n",
              "        0.4417627 , 0.3018099 , 0.00286567, 0.37771118, 0.522321  ],\n",
              "       [0.6203269 , 0.11218929, 0.07014143, 0.48871315, 0.6522603 ,\n",
              "        0.8096292 , 0.8404658 , 0.7782121 , 0.92440355, 0.18524182,\n",
              "        0.22505367, 0.07472241, 0.8036076 , 0.11100793, 0.47373438,\n",
              "        0.18343496, 0.9961076 , 0.1512729 , 0.00883961, 0.3072629 ]],\n",
              "      dtype=float32)>"
            ]
          },
          "metadata": {
            "tags": []
          },
          "execution_count": 24
        }
      ]
    },
    {
      "cell_type": "code",
      "metadata": {
        "id": "IQgK5zVK6EX_"
      },
      "source": [
        "# implementing our own sequential class to understand working of sequential block\n",
        "class MySequential(tf.keras.Model):\n",
        "    def __init__(self, *args):\n",
        "        \n",
        "        # Call the constructor of the 'MySequential' parent class 'Block' to perform the required initialization.\n",
        "        super().__init__()\n",
        "        \n",
        "        self.modules = []\n",
        "        for block in args:\n",
        "            # 'block' is an instance of a 'tf.keras.layers.Layer' subclass\n",
        "            self.modules.append(block)\n",
        "\n",
        "    def call(self, X):\n",
        "        for module in self.modules:\n",
        "            X = module(X)\n",
        "        return X"
      ],
      "execution_count": 25,
      "outputs": []
    },
    {
      "cell_type": "code",
      "metadata": {
        "id": "yp7Qzsfx6EYF",
        "outputId": "88960f41-da35-4928-ca4d-a1fd5b827e91",
        "colab": {
          "base_uri": "https://localhost:8080/",
          "height": 118
        }
      },
      "source": [
        "net = MySequential(\n",
        "        tf.keras.layers.Dense(units=256, activation='relu'),\n",
        "        tf.keras.layers.Dense(10))\n",
        "net.call(X)"
      ],
      "execution_count": 26,
      "outputs": [
        {
          "output_type": "execute_result",
          "data": {
            "text/plain": [
              "<tf.Tensor: shape=(2, 10), dtype=float32, numpy=\n",
              "array([[ 0.12157557,  0.33672288,  0.12058124,  0.0449957 , -0.05865243,\n",
              "         0.06890902,  0.21493694, -0.00678845, -0.2616074 ,  0.22603808],\n",
              "       [ 0.08626123,  0.04644654,  0.06064051,  0.14138924, -0.10414955,\n",
              "         0.16660346,  0.20093785,  0.05329151, -0.17403625,  0.13958772]],\n",
              "      dtype=float32)>"
            ]
          },
          "metadata": {
            "tags": []
          },
          "execution_count": 26
        }
      ]
    }
  ]
}